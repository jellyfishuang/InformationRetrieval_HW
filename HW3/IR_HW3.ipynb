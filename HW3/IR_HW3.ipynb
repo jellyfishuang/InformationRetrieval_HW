{
 "cells": [
  {
   "cell_type": "code",
   "execution_count": 74,
   "metadata": {},
   "outputs": [
    {
     "name": "stdout",
     "output_type": "stream",
     "text": [
      "2\n",
      "d123 d84 d56 d6 d8 d9 d511 d129 d187 d25 d38 d48 d250 d113 d3\n",
      "d3 d123 d25 d56 d9\n",
      "d84 d56 d123 d129 d8 d6 d511 d9 d187 d3 d48 d38 d25 d113 d250\n",
      "d123 d3 d6\n"
     ]
    }
   ],
   "source": [
    "# coding=utf-8\n",
    "IRows = int(input())\n",
    "\n",
    "# Document:\n",
    "# {\n",
    "#     '1':[a y z b c d] list\n",
    "#     '2':[a f e b c]\n",
    "# }\n",
    "# Query:\n",
    "# {\n",
    "#     '1':(a b c d) set\n",
    "#     '2':(e f g)\n",
    "# }\n",
    "\n",
    "icount = 1\n",
    "Document = {}\n",
    "Query = {}\n",
    "\n",
    "while icount <= IRows:\n",
    "    input_document = input()\n",
    "    input_document = input_document.split( )\n",
    "    input_query = input()\n",
    "    input_query = input_query.split( )\n",
    "    set_query = set(input_query)\n",
    "    Document[icount] = input_document\n",
    "    Query[icount] = set_query\n",
    "    icount += 1"
   ]
  },
  {
   "cell_type": "code",
   "execution_count": 78,
   "metadata": {
    "scrolled": true
   },
   "outputs": [
    {
     "name": "stdout",
     "output_type": "stream",
     "text": [
      "0.4511\n"
     ]
    }
   ],
   "source": [
    "icount = 1\n",
    "IPercent = 0.0\n",
    "while icount <= IRows:\n",
    "    match_count = 0\n",
    "    sum_percent = 0.0\n",
    "    for idx, document in enumerate(Document[icount]):\n",
    "        if document in Query[icount]:\n",
    "            match_count += 1\n",
    "            percent = match_count / (idx + 1)\n",
    "            sum_percent += percent\n",
    "    sum_percent /= len(Query[icount])\n",
    "    IPercent += sum_percent\n",
    "    icount += 1\n",
    "IPercent /= IRows\n",
    "print(format(IPercent, '.4f'))\n",
    "#print(Document)\n",
    "#print(Query)\n",
    "        "
   ]
  }
 ],
 "metadata": {
  "interpreter": {
   "hash": "e1b883249a26d7a8add3a25aae1455b5b21ce8d46ddc30c35749dbc435699b68"
  },
  "kernelspec": {
   "display_name": "Python 3",
   "language": "python",
   "name": "python3"
  },
  "language_info": {
   "codemirror_mode": {
    "name": "ipython",
    "version": 3
   },
   "file_extension": ".py",
   "mimetype": "text/x-python",
   "name": "python",
   "nbconvert_exporter": "python",
   "pygments_lexer": "ipython3",
   "version": "3.8.8"
  }
 },
 "nbformat": 4,
 "nbformat_minor": 2
}
