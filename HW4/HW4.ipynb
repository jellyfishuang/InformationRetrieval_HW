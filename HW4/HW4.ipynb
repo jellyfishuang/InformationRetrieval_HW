{
 "cells": [
  {
   "cell_type": "code",
   "execution_count": 6,
   "metadata": {},
   "outputs": [
    {
     "name": "stdout",
     "output_type": "stream",
     "text": [
      "10000\n"
     ]
    }
   ],
   "source": [
    "# coding: utf-8\n",
    "\n",
    "TotalQueryPath = 'C:/Users/jellyfishuan/Documents/InformationRetrieval_HW/HW4/query_list.txt'\n",
    "TotalDocumentPath = 'C:/Users/jellyfishuan/Documents/InformationRetrieval_HW/HW4/doc_list.txt'\n",
    "QuerysPath = 'C:/Users/jellyfishuan/Documents/InformationRetrieval_HW/HW4/queries/'\n",
    "DocumentsPath = 'C:/Users/jellyfishuan/Documents/InformationRetrieval_HW/HW4/docs/'\n",
    "\n",
    "# Document_dict =\n",
    "# {\n",
    "#     'FBIS3-10082' = ['languag','f','p','105','spanish' ...]\n",
    "#     ...\n",
    "# }\n",
    "\n",
    "# Document_Count = \n",
    "# {\n",
    "#     dict:'FBIS3-10082' = \n",
    "#     {\n",
    "#         'languag' = 2,\n",
    "#         'f' = 1,\n",
    "#         'p' = 1,\n",
    "#         ...\n",
    "#         'de' = 6,\n",
    "#         ...\n",
    "#     }\n",
    "# }\n",
    "\n",
    "Query_dict = {}\n",
    "Document_Count = {}\n",
    "QuerySet = []\n",
    "\n",
    "with open (TotalQueryPath, 'r') as f:\n",
    "    for QueryFileName in f.readlines():\n",
    "        QueryFileName = QueryFileName.strip('\\n')\n",
    "\n",
    "        with open(QuerysPath + QueryFileName + '.txt', 'r') as qf:\n",
    "            query_list = []\n",
    "            for query_read in qf.readlines():\n",
    "                for word in query_read.split(' '):\n",
    "                    word = word.lower()\n",
    "                    query_list.append(word)\n",
    "                    QuerySet.append(word)\n",
    "\n",
    "            #print(QueryFileName, query_list)\n",
    "            Query_dict[QueryFileName] = query_list\n",
    "#print(Query_dict)\n",
    "#print(QuerySet)\n",
    "\n",
    "Document_dict = {}\n",
    "with open (TotalDocumentPath, 'r') as f:\n",
    "    for DocumentFileName in f.readlines():\n",
    "        DocumentFileName = DocumentFileName.strip('\\n')\n",
    "\n",
    "        with open(DocumentsPath + DocumentFileName + '.txt', 'r') as df:\n",
    "            document_list = []\n",
    "            for document_read in df.readlines():\n",
    "                for word in document_read.split(' '):\n",
    "                    word = word.lower()\n",
    "                    if word in QuerySet:\n",
    "                        document_list.append(word)\n",
    "\n",
    "            #print(QueryFileName, query_list)\n",
    "            dcount = {}\n",
    "\n",
    "            for word in document_list:\n",
    "                dcount[word] = dcount.get(word,0) + 1\n",
    "\n",
    "            Document_dict[DocumentFileName] = document_list\n",
    "            Document_Count[DocumentFileName] = dcount\n",
    "\n",
    "#print(Document_dict)\n",
    "print(len(Document_dict))"
   ]
  }
 ],
 "metadata": {
  "interpreter": {
   "hash": "e1b883249a26d7a8add3a25aae1455b5b21ce8d46ddc30c35749dbc435699b68"
  },
  "kernelspec": {
   "display_name": "Python 3.8.8 64-bit ('base': conda)",
   "name": "python3"
  },
  "language_info": {
   "codemirror_mode": {
    "name": "ipython",
    "version": 3
   },
   "file_extension": ".py",
   "mimetype": "text/x-python",
   "name": "python",
   "nbconvert_exporter": "python",
   "pygments_lexer": "ipython3",
   "version": "3.8.8"
  },
  "orig_nbformat": 4
 },
 "nbformat": 4,
 "nbformat_minor": 2
}
