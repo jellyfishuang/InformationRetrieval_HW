{
 "cells": [
  {
   "cell_type": "code",
   "execution_count": 1,
   "metadata": {},
   "outputs": [
    {
     "name": "stdout",
     "output_type": "stream",
     "text": [
      "world\n"
     ]
    }
   ],
   "source": [
    "# coding: utf-8\n",
    "\n",
    "TotalQueryPath = 'C:/Users/jellyfishuan/Documents/InformationRetrieval_HW/query_list.txt'\n",
    "TotalDocumentPath = 'C:/Users/jellyfishuan/Documents/InformationRetrieval_HW/doc_list.txt'\n",
    "QuerysPath = 'C:/Users/jellyfishuan/Documents/InformationRetrieval_HW/queries/'\n",
    "DocumentsPath = 'C:/Users/jellyfishuan/Documents/InformationRetrieval_HW/docs/'\n",
    "\n",
    "\n"
   ]
  }
 ],
 "metadata": {
  "interpreter": {
   "hash": "e1b883249a26d7a8add3a25aae1455b5b21ce8d46ddc30c35749dbc435699b68"
  },
  "kernelspec": {
   "display_name": "Python 3.8.8 64-bit ('base': conda)",
   "name": "python3"
  },
  "language_info": {
   "codemirror_mode": {
    "name": "ipython",
    "version": 3
   },
   "file_extension": ".py",
   "mimetype": "text/x-python",
   "name": "python",
   "nbconvert_exporter": "python",
   "pygments_lexer": "ipython3",
   "version": "3.8.8"
  },
  "orig_nbformat": 4
 },
 "nbformat": 4,
 "nbformat_minor": 2
}
